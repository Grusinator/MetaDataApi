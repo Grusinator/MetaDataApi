{
 "cells": [
  {
   "cell_type": "code",
   "execution_count": 2,
   "metadata": {},
   "outputs": [],
   "source": []
  },
  {
   "cell_type": "code",
   "execution_count": 2,
   "metadata": {},
   "outputs": [
    {
     "name": "stdout",
     "output_type": "stream",
     "text": [
      "{'user': {'username': 'grusinator', 'firstName': 'William', 'lastName': 'Hansen', 'email': 'grusinator@gmail.com'}}\n"
     ]
    }
   ],
   "source": [
    "from metadataclient import MetaDataClient\n",
    "from load_env import *\n",
    "client = MetaDataClient(GRAPHQL_URL)\n",
    "client.authenticate(WEB_USERNAME, WEB_PASSWORD)\n",
    "print(client.get_user())"
   ]
  },
  {
   "cell_type": "code",
   "execution_count": 5,
   "metadata": {
    "pycharm": {
     "name": "#%%\n"
    }
   },
   "outputs": [],
   "source": [
    "data = client.run_query(\"\"\"\n",
    "{\n",
    "  allJourneys {\n",
    "    mood\n",
    "    sentiment\n",
    "  }\n",
    "}\n",
    "\"\"\")\n",
    "data = data[\"allJourneys\"]\n",
    "#print(data)"
   ]
  },
  {
   "cell_type": "code",
   "execution_count": 6,
   "metadata": {},
   "outputs": [],
   "source": [
    "from IPython.core.display import display, HTML\n",
    "import matplotlib.pyplot as plt"
   ]
  },
  {
   "cell_type": "code",
   "execution_count": 9,
   "metadata": {},
   "outputs": [
    {
     "data": {
      "image/png": "[encoded data removed]",
      "text/plain": [
       "<Figure size 432x288 with 1 Axes>"
      ]
     },
     "metadata": {
      "needs_background": "light"
     },
     "output_type": "display_data"
    }
   ],
   "source": [
    "att_x = \"sentiment\"\n",
    "att_y = \"mood\"\n",
    "fig, ax = plt.subplots()\n",
    "x = [row[att_x] for row in data] \n",
    "y = [row[att_y] for row in data]\n",
    "ax.plot(x, y, \"*\")\n",
    "\n",
    "ax.set(xlabel=att_x, ylabel=att_y,\n",
    "       title='Title')\n",
    "ax.grid()\n",
    "\n",
    "plt.show()"
   ]
  },
  {
   "cell_type": "code",
   "execution_count": null,
   "metadata": {},
   "outputs": [],
   "source": []
  }
 ],
 "metadata": {
  "kernelspec": {
   "display_name": "Python 3",
   "language": "python",
   "name": "python3"
  },
  "language_info": {
   "codemirror_mode": {
    "name": "ipython",
    "version": 3
   },
   "file_extension": ".py",
   "mimetype": "text/x-python",
   "name": "python",
   "nbconvert_exporter": "python",
   "pygments_lexer": "ipython3",
   "version": "3.7.2"
  },
  "pycharm": {
   "stem_cell": {
    "cell_type": "raw",
    "metadata": {
     "collapsed": false
    },
    "source": []
   }
  }
 },
 "nbformat": 4,
 "nbformat_minor": 2
}
